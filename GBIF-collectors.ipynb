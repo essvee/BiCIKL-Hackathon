{
 "cells": [
  {
   "cell_type": "markdown",
   "id": "71560433",
   "metadata": {},
   "source": [
    "## BiCIKL-Hackathon Topic 9: Hidden Women in Science"
   ]
  },
  {
   "cell_type": "markdown",
   "id": "3b646a6d",
   "metadata": {},
   "source": [
    "____\n",
    "### Summary\n",
    "____\n",
    "\n",
    "[Topic overview](https://github.com/pensoft/BiCIKL/tree/main/Topic%209%20Hidden%20women%20in%20science)\n",
    "\n",
    "I’ve been seeing how well the connections between different infrastructures using collector names link together in the current architecture, with the idea that seeing where/why things are getting lost might be useful:\n",
    "\n",
    "Collector names in gbif occurrences (preserved) -> proportion that hold enough detail to resolve -> number of records with a matching profile on bionomia -> number of corresponding records on wikidata holding gender data -> number of women\n",
    "\n",
    "Results from a subset of gbif records:\n",
    "\n",
    "    1. Records:                         50,403\n",
    "    2. Unique recordedBy values:        6,078 \n",
    "    3. … which aren’t initials:         1,272\n",
    "    4. Names which match bionomia*:     392\n",
    "    5. Wikidata record has gender:      320\n",
    "    6. Women:                           10\n",
    "\n",
    "* confidence >= 51.\n",
    "\n",
    "Recommendations: people are looking for women collectors, they’re just hard to find because the data homogenous - infra could look at supporting human-in-the-loop name disambiguation through platforms such as bionomia and wikidata - may be useful side-products of their existing processes (clustering, for eg) that could speed up independent researcher activities. \n",
    "\n",
    "[Topic overview](https://github.com/pensoft/BiCIKL/tree/main/Topic%209%20Hidden%20women%20in%20science)\n"
   ]
  },
  {
   "cell_type": "markdown",
   "id": "4fee294d",
   "metadata": {},
   "source": [
    "___\n",
    "### Imports and params\n",
    "___"
   ]
  },
  {
   "cell_type": "code",
   "execution_count": 1,
   "id": "adcbdb72",
   "metadata": {},
   "outputs": [],
   "source": [
    "import requests\n",
    "import itertools\n",
    "import re\n",
    "import json\n",
    "import urllib.parse\n",
    "import time\n",
    "import sys\n",
    "from SPARQLWrapper import SPARQLWrapper, JSON\n",
    "\n",
    "import collector_utils as co"
   ]
  },
  {
   "cell_type": "code",
   "execution_count": 2,
   "id": "687ad291",
   "metadata": {},
   "outputs": [],
   "source": [
    "# params to fiddle with\n",
    "start_year_range = 1880\n",
    "end_year_range = 1880\n",
    "gbif_taxon_id = 7819616\n",
    "confidence = 51\n",
    "wikidata_username = 'Essssveeee'"
   ]
  },
  {
   "cell_type": "markdown",
   "id": "72a616cd",
   "metadata": {},
   "source": [
    "____\n",
    "### 1. Get GBIF botanist sample\n",
    "____\n",
    "\n",
    "Get a sample of unique values from dwc.recordedBy fields in occurrence records (preserved specimens only) in GBIF to work with. The sample is defined by year of collection (set to c. 1870 because that's when we started to see more botanistas appearing, but it isn't so recent they'll still be alive) + taxonomic groups within Plantae (mostly to keep the number of records/processing speed at a sensible level) \n",
    "\n",
    "\n",
    "#### Why tho?\n",
    "\n",
    "* Anecdata but probably more historical women botanists around - flowers being ladylike n all that.\n",
    "* Doesn't look like GBIF do much with the name strings they harvest, so should be pretty representative of source data quality?\n",
    "* Bionomia records reference GBIF specimen occ records so there's already a link there. "
   ]
  },
  {
   "cell_type": "code",
   "execution_count": 3,
   "id": "caa90c82",
   "metadata": {
    "scrolled": true
   },
   "outputs": [],
   "source": [
    "# Set daterange of interest and taxon-id (easily grabbable from occ search GUI url)\n",
    "gbif_collectors = co.get_gbif_recordedBy(start_year_range, end_year_range, gbif_taxon_id)"
   ]
  },
  {
   "cell_type": "code",
   "execution_count": 4,
   "id": "06dd0b15",
   "metadata": {},
   "outputs": [
    {
     "name": "stdout",
     "output_type": "stream",
     "text": [
      "Unique name strings\n",
      "Taxa of interest: Charophyta (preserved specimens only)\n",
      "Collection event date range: 1880-1880\n",
      "Count of unique names: 241\n"
     ]
    }
   ],
   "source": [
    "# Summary + counts\n",
    "taxa_name = co.get_species_label(gbif_taxon_id)\n",
    "print(\"Unique name strings\")\n",
    "print(f\"Taxa of interest: {taxa_name} (preserved specimens only)\")\n",
    "print(f\"Collection event date range: {start_year_range}-{end_year_range}\")\n",
    "print(f\"Count of unique names: {len(gbif_collectors)}\") "
   ]
  },
  {
   "cell_type": "markdown",
   "id": "e23f8cbf",
   "metadata": {},
   "source": [
    "##### Notes \n",
    "\n",
    "1. Could have retrieved `dwc.family` + `dwc.year` per record/unique collector name too. \n",
    "            {'original_name': 'Alfreda Collectoro', \n",
    "            'taxa': [t1, t2, t3],\n",
    "            'year': [1870, 1870, 1871, 1864]}  \n",
    "        \n",
    "    * Might have been useful later on, but also would have been annoying to deal with \n",
    "    \n",
    "\n",
    "2. Found a fair few recordedBy fields with 'Mrs/Miss' in them - just added them to the 'full names' list in the end, but could be worth returning them separately cos they're definitely women.\n",
    "\n",
    "##### Interesting questions\n",
    "\n",
    "1. How much is recordedByID being used? What kind of IDs are in there?\n",
    "2. Distribution/frequency of each name variant within result set\n",
    "3. Are names consistent within datasets/institutions"
   ]
  },
  {
   "cell_type": "markdown",
   "id": "188743d8",
   "metadata": {},
   "source": [
    "_______\n",
    "\n",
    "### 2. ID easier-to-resolve names\n",
    "_______\n",
    "\n",
    "Attempt to parse out 'fullname' names from the collector list generated in previous steps. a.k.a, filter out names that are either a single word string, or which have a leading or trailing initial. \n",
    "\n",
    "\n",
    "#### Why tho?\n",
    "\n",
    "* Easy wins! \n",
    "* Fuller names = easier/less risky to disambiguate \n",
    "* Need a decent name string to do any filtering based on demographics. \n",
    "* Interested to see the proportion of names that fall into full/thin camp and the different patterns used within this. \n"
   ]
  },
  {
   "cell_type": "code",
   "execution_count": 5,
   "id": "ef7b08d2",
   "metadata": {},
   "outputs": [],
   "source": [
    "# Separate name list from previous step into full names vs thin/initials\n",
    "fuller_names, initials = co.get_rid_of_gunk(gbif_collectors)\n",
    "fuller_names.sort()\n",
    "initials.sort()"
   ]
  },
  {
   "cell_type": "code",
   "execution_count": 6,
   "id": "ceb0cde3",
   "metadata": {
    "scrolled": true
   },
   "outputs": [
    {
     "name": "stdout",
     "output_type": "stream",
     "text": [
      "Fuller names: ['Arthur Bennett', 'Barbey William', 'Beeby, Mr William Hadden FLS', 'Bennett, Mr Arthur F.L.S. - Croydon', 'Boissier Pierre Edmond', 'Bolton King', 'Braun Alexander Karl (Carl) Heinrich', 'Bulnheim Otto', 'Charles Bailey', 'Chenevard Paul']\n",
      "\n",
      "Thinner names: ['', '....berger', 'A Bennett', 'A. Bennett', 'A. Dichtl', 'A. H. Curtiss', 'A. Kellogg', 'A. Loefgren', 'A. LÃ¶fgren', 'A. Löfgren']\n"
     ]
    }
   ],
   "source": [
    "# Peek at the first 10 names in each\n",
    "print(f\"Fuller names: {fuller_names[:10]}\")\n",
    "print()\n",
    "print(f\"Thinner names: {initials[:10]}\")"
   ]
  },
  {
   "cell_type": "code",
   "execution_count": 7,
   "id": "b57362ea",
   "metadata": {},
   "outputs": [
    {
     "data": {
      "text/plain": [
       "'Full name count: 62, thinner name count: 179'"
      ]
     },
     "execution_count": 7,
     "metadata": {},
     "output_type": "execute_result"
    }
   ],
   "source": [
    "# Summary + counts\n",
    "f\"Full name count: {len(fuller_names)}, thinner name count: {len(initials)}\""
   ]
  },
  {
   "cell_type": "markdown",
   "id": "1c50c5a2",
   "metadata": {},
   "source": [
    "##### Notes\n",
    "\n",
    "1. Seems to work well enough, although full names are in the minority in all the samples I've tried. \n",
    "    * Could try clustering the names back around thin names once they've been resolved/if they can be? \n",
    "    * Outputs would need a bit of manual checking, but could be something citizen science folks would like to do + be good at?  \n",
    "    \n",
    "\n",
    "2. Still a few values that are clearly > 1 name though. \n",
    "    * Already splitting on these: & ; 'and' |, but the rem look like comma delimited... \n",
    "    * Might be splittable using whitespace counts? \n",
    "\n",
    "##### Interesting questions\n",
    "\n",
    "1. Are patterns of errors characteristic to institutions?\n",
    "2. Frequency of each name in terms of occurrence record count.\n"
   ]
  },
  {
   "cell_type": "markdown",
   "id": "54562e18",
   "metadata": {},
   "source": [
    "_______\n",
    "\n",
    "### 3. Try to resolve against Bionomia\n",
    "_______\n",
    "\n",
    "We're trying to match the full collector names from previous steps to profiles on Bionomia, using a couple of API endpoints: autocomplete widget and JSON-LD search for people (former give a confidence match score, latter allows additional search params to help narrow search)  \n",
    "\n",
    "Docs: https://bionomia.net/developers\n",
    "\n",
    "#### Why tho?\n",
    "\n",
    "* Seems a good source of names + there was an nice API for searching them - seemed rude not to.\n",
    "* Everything in Bionomia has to have either an ORCiD or all of [birth date, death date, wikidata QID] and for the date range we're looking at, ORCiDs seem unlikely. So. Everything we match in bionomia is also a match against wikidata (but not necessarily vice versa)\n",
    "* Wikidata record means a person-id we can maybe trust, yay!\n",
    "* We're trying to light up 'lost' people, so unmatching names are of interest because they aren't in bionomia, but the people were collectors... \n",
    "* ... or occurence recordedBy strings are garbled beyond matchability, which is also useful - how much do they need to be cleaned up before they match well enough? \n"
   ]
  },
  {
   "cell_type": "code",
   "execution_count": 8,
   "id": "be6f8d02",
   "metadata": {},
   "outputs": [],
   "source": [
    "# pass in list of names and date range\n",
    "bionomia_matches, bionomia_unmatches = co.search_bionomia_people_auto(fuller_names, confidence)"
   ]
  },
  {
   "cell_type": "code",
   "execution_count": 9,
   "id": "69b4c345",
   "metadata": {},
   "outputs": [
    {
     "name": "stdout",
     "output_type": "stream",
     "text": [
      "Confidence cutoff = 51: 38/62 full names were matched against the basic Bionomia endpoint\n"
     ]
    }
   ],
   "source": [
    "print(f\"Confidence cutoff = {confidence}: {len(bionomia_matches)}/{len(fuller_names)} full names were matched against the basic Bionomia endpoint\")"
   ]
  },
  {
   "cell_type": "code",
   "execution_count": 10,
   "id": "09149ca4",
   "metadata": {},
   "outputs": [
    {
     "name": "stdout",
     "output_type": "stream",
     "text": [
      "Arthur Bennett -> Arthur Bennett (Q5706955)\n",
      "Barbey William -> William Barbey (Q3568417)\n",
      "Boissier Pierre Edmond -> Edmond Boissier (Q34430)\n",
      "Bolton King -> Bolton King (Q18730032)\n",
      "Braun Alexander Karl (Carl) Heinrich -> Alexander Braun (Q62855)\n",
      "Bulnheim Otto -> Carl Otto Bulnheim (Q21506645)\n",
      "Chenevard Paul -> Paul Chenevard (Q6067136)\n",
      "Cyrus Guernsey Pringle -> Cyrus Pringle (Q3009492)\n",
      "Edouard Rostan -> Edouard Rostan (Q21607448)\n",
      "Ellsworth J. Hill -> Ellsworth Jerome Hill (Q19955677)\n",
      "Fauconnet Charles Isaac -> Charles Isaac Fauconnet (Q21512667)\n",
      "Favrat Louis -> Louis Favrat (Q3261879)\n",
      "Frederick Arnold Lees -> Frederick Arnold Lees (Q21518563)\n",
      "George Claridge Druce -> George Claridge Druce (Q601969)\n",
      "George Nicholson -> George Nicholson (Q5542889)\n",
      "George Nicholson, George Nicholson -> George Nicholson (Q5542889)\n",
      "Gustaf Tiselius -> Gustaf Tiselius (Q18246582)\n",
      "Henry Groves -> Henry Groves (Q5894527)\n",
      "Henry Groves, James Groves -> James Groves (Q21512721)\n",
      "Henry Groves, John Ralfs -> John Ralfs (Q6254132)\n"
     ]
    }
   ],
   "source": [
    "# Quick look\n",
    "for match in bionomia_matches[:20]:\n",
    "    print(f\"{match['original_name']} -> {match['bionomia_match']['fullname']} ({match['bionomia_match']['wikidata']})\")"
   ]
  },
  {
   "cell_type": "markdown",
   "id": "417a3da7",
   "metadata": {},
   "source": [
    "##### Notes\n",
    "\n",
    "1. Does the order of words in a name matter? aka, any difference from `forename, surname` pattern vs `surname, forename`?  \n",
    "    * Doesn't look like it. e.g., the two calls below bring back the same match with an identical score (43.65668):   \n",
    "        `https://api.bionomia.net/user.json?q=Nilsson+Alb.&limit=1`  \n",
    "        `https://api.bionomia.net/user.json?q=Alb.+Nilsson&limit=1`  \n",
    " \n",
    "   \n",
    "2. Hard to say from limited sample size, but the JSON-LD endpoint seemed to match less accurately than the basic one\n",
    "    * Either collection dates are off (and so fall outside lifespan of collector)\n",
    "    * Or collection dates are correct and what looks like a perfect match is someone with the same name at a different time (this would imply the true collector isn't in Bionomia yet, I suppose?)\n",
    "    * .... could be both, of course. JSON-LD endpoint doesn't give the match score so hard to QC, either way. \n",
    "    * You can pass in families collected as well, which might help, but I reckon that comes from GBIF data links anyway & if it doesn't it's probably real mucky so would need resolving first.\n",
    "    * confidence cutoff for the basic API seemed to hit a sweet spot in terms of accuracy around 51\n",
    "\n",
    "##### Interesting questions\n",
    "\n",
    "1. Does having a title/indicator of marital status make any difference to number of matches/scores?\n",
    "2. How good is each endpoint at resolving non-full names? Would think it's risky unless you have a bunch of other match points, and tbf the responsibility for thin names is at data creation/collection so maybe infra should design services around the assumption of decent source data. The carrot can also be the stick ;) "
   ]
  },
  {
   "cell_type": "markdown",
   "id": "efe5a677",
   "metadata": {},
   "source": [
    "_______\n",
    "\n",
    "### 4. Filter using wikidata\n",
    "_______\n",
    "\n",
    "Everything matched from the previous step has a wikidata identifier, and wikidata has the person's gender so could use it to tag bionomia records with gender, because that doesn't seem to be in their data.\n",
    "\n",
    "Brings back all botanists on en wikidata with a birth and death date: https://w.wiki/47QX, so if any on the bionomia matches from the last step ain't in there, they are Secret and might even be Secret Women Botanists, oooh. \n",
    "\n",
    "#### Why tho?\n",
    "\n",
    "* It'll give us a better list of 'dunno who these collectors are' and also an idea of how many might be women, based on distribution of gender in the wikidata results.\n"
   ]
  },
  {
   "cell_type": "code",
   "execution_count": 11,
   "id": "99f33146",
   "metadata": {},
   "outputs": [],
   "source": [
    "endpoint_url = \"https://query.wikidata.org/sparql\"\n",
    "\n",
    "query = \"\"\"#\n",
    "SELECT DISTINCT ?botanist ?botanistLabel ?occLabel ?birth ?death ?gender WHERE {\n",
    "  VALUES ?occ { wd:Q2374149 wd:Q2083925 } # occupations: botanist and botanical collector\n",
    "  ?botanist wdt:P106 ?occ ;               # botanist has occumpation ?occ\n",
    "            wdt:P570 ?death ;             # botanist has deathdate\n",
    "            wdt:P569 ?birth .             # botanist has birthdate\n",
    "  optional {?botanist wdt:P21 ?gender . } # botanist has gender (optional)\n",
    "  SERVICE wikibase:label {\n",
    "    bd:serviceParam wikibase:language \"en\" .\n",
    "  }\n",
    "}\n",
    "\n",
    "\"\"\""
   ]
  },
  {
   "cell_type": "code",
   "execution_count": 12,
   "id": "a827806e",
   "metadata": {},
   "outputs": [],
   "source": [
    "# Get all the women botanists that are currently on wikidata\n",
    "wikidata_result = co.get_wikidata_botanists(endpoint_url, query, wikidata_username)"
   ]
  },
  {
   "cell_type": "code",
   "execution_count": 13,
   "id": "c662fecb",
   "metadata": {},
   "outputs": [],
   "source": [
    "# split based on value of gender tag\n",
    "wiki_botanists = wikidata_result['results']['bindings']\n",
    "\n",
    "wiki_unk = [] # gender field is null\n",
    "wiki_men = []\n",
    "wiki_women = []\n",
    "wiki_nb = [] \n",
    "\n",
    "for w_botanist in wiki_botanists:\n",
    "    if 'gender' not in w_botanist:\n",
    "        wiki_unk.append(co.get_qid(w_botanist))\n",
    "    elif w_botanist['gender']['value'] == 'http://www.wikidata.org/entity/Q6581072':\n",
    "        wiki_women.append(co.get_qid(w_botanist))\n",
    "    elif w_botanist['gender']['value'] == 'http://www.wikidata.org/entity/Q6581097':      \n",
    "        wiki_men.append(co.get_qid(w_botanist))\n",
    "    else:\n",
    "        wiki_nb.append(co.get_qid(w_botanist))\n",
    "        "
   ]
  },
  {
   "cell_type": "code",
   "execution_count": 14,
   "id": "8092a9a8",
   "metadata": {
    "scrolled": true
   },
   "outputs": [
    {
     "name": "stdout",
     "output_type": "stream",
     "text": [
      "Total wikidata botanist records: 19636\n",
      "\n",
      "Women botanists: 2789\n",
      "Null: 403\n",
      "Nb botanists: 0\n",
      "Men botanists: 16444\n"
     ]
    }
   ],
   "source": [
    "print(f\"Total wikidata botanist records: {len(wiki_botanists)}\")\n",
    "print()\n",
    "print(f\"Women botanists: {len(wiki_women)}\")\n",
    "print(f\"Null: {len(wiki_unk)}\")\n",
    "print(f\"Nb botanists: {len(wiki_nb)}\")\n",
    "print(f\"Men botanists: {len(wiki_men)}\")\n"
   ]
  },
  {
   "cell_type": "markdown",
   "id": "45ac7c5a",
   "metadata": {},
   "source": [
    "___\n",
    "### 5. Known women!\n",
    "___\n",
    "\n",
    "In a specific and highly limited sense:\n",
    "- is present in gbif occurrence records\n",
    "- has a bionomia profile\n",
    "- recordedBy value is clear enough to match against bionomia\n",
    "- has gender data present in wikidata\n",
    "- ... at the very minimum, in terms of data infra"
   ]
  },
  {
   "cell_type": "code",
   "execution_count": 15,
   "id": "3c3e8cf8",
   "metadata": {},
   "outputs": [],
   "source": [
    "women = []\n",
    "men = []\n",
    "nb = []\n",
    "unk = []\n",
    "uhoh = []\n",
    "\n",
    "# Categorise collectors by gender\n",
    "for x in bionomia_matches:\n",
    "    \n",
    "    b_qid = x['bionomia_match']['wikidata']\n",
    "    \n",
    "    if b_qid in wiki_women:\n",
    "        women.append(b_qid)\n",
    "    elif b_qid in wiki_men:\n",
    "        men.append(b_qid)\n",
    "    elif b_qid in wiki_nb:\n",
    "        nb.append(b_qid)\n",
    "    elif b_qid in wiki_unk:\n",
    "        unk.append(b_qid)\n",
    "    else:\n",
    "        uhoh.append(b_qid)"
   ]
  },
  {
   "cell_type": "code",
   "execution_count": 16,
   "id": "e7ccbad2",
   "metadata": {},
   "outputs": [
    {
     "name": "stdout",
     "output_type": "stream",
     "text": [
      "Women: 1\n",
      "Men: 35\n",
      "Non-binary: 0\n",
      "Unknown: 0\n",
      "Uhoh: 2\n"
     ]
    }
   ],
   "source": [
    "print(f\"Women: {len(women)}\")\n",
    "print(f\"Men: {len(men)}\")\n",
    "print(f\"Non-binary: {len(nb)}\")\n",
    "print(f\"Unknown: {len(unk)}\")\n",
    "print(f\"Uhoh: {len(uhoh)}\") ## orcid, maybe? "
   ]
  }
 ],
 "metadata": {
  "kernelspec": {
   "display_name": "gbif-api",
   "language": "python",
   "name": "gbif-api"
  },
  "language_info": {
   "codemirror_mode": {
    "name": "ipython",
    "version": 3
   },
   "file_extension": ".py",
   "mimetype": "text/x-python",
   "name": "python",
   "nbconvert_exporter": "python",
   "pygments_lexer": "ipython3",
   "version": "3.8.11"
  }
 },
 "nbformat": 4,
 "nbformat_minor": 5
}
