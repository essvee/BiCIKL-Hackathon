{
 "cells": [
  {
   "cell_type": "markdown",
   "id": "71560433",
   "metadata": {},
   "source": [
    "## BiCIKL-Hackathon Topic 9: Hidden Women in Science"
   ]
  },
  {
   "cell_type": "markdown",
   "id": "3b646a6d",
   "metadata": {},
   "source": [
    "____\n",
    "### Workplan\n",
    "____\n",
    "\n",
    "1. ~Get a list of botanists off GBIF that are affiliated with records from around a test subset of records (taxon, eveny year)~\n",
    "2. ~Try to pick out full names, both to make resolution easier and to identify likely not-men - whats the frequency of each in the data?~\n",
    "3. ~Try to resolve names against Bionomia - what fails and why~\n",
    "4. For names that aren't found in Binomia, try and resolve against wikidata\n",
    "5. Use any wikidata QIDs resulting from 3. and 4. to get gender label\n",
    "6. For names that aren't found in either source: try a few broad-brush approaches to identifying which ones might be women (could look for titles eg 'Ms Miss Mrs' or use gender-spotting API etc)\n",
    "7. For recs that might be women, run against GBIF occ ID again to get an idea of years of activity (slightly nonsensical in the test dataset, admittedly), major taxonomic groups of study, institutions of deposition? Useful output would be a set of unk women with enough hooks about their activities to encourage human research\n",
    "8. Could also run names against BHL OCR text search to get a list of possible references together to augment 7.  \n",
    "\n",
    "[Topic overview](https://github.com/pensoft/BiCIKL/tree/main/Topic%209%20Hidden%20women%20in%20science)\n",
    "\n"
   ]
  },
  {
   "cell_type": "markdown",
   "id": "4fee294d",
   "metadata": {},
   "source": [
    "___\n",
    "### Imports and params\n",
    "___"
   ]
  },
  {
   "cell_type": "code",
   "execution_count": 18,
   "id": "adcbdb72",
   "metadata": {},
   "outputs": [],
   "source": [
    "import requests\n",
    "import itertools\n",
    "import re\n",
    "import json\n",
    "import urllib.parse"
   ]
  },
  {
   "cell_type": "code",
   "execution_count": 19,
   "id": "687ad291",
   "metadata": {},
   "outputs": [],
   "source": [
    "start_year_range = 1870\n",
    "end_year_range = 1870\n",
    "gbif_taxon_id = 6"
   ]
  },
  {
   "cell_type": "markdown",
   "id": "8c2794c7",
   "metadata": {},
   "source": [
    "___\n",
    "### Functions\n",
    "___"
   ]
  },
  {
   "cell_type": "code",
   "execution_count": 20,
   "id": "0df3dab5",
   "metadata": {},
   "outputs": [],
   "source": [
    "\"\"\"\n",
    "Retrieve a unique list of values in GBIF occurrence dwc.recordedBy fields for a given date range and taxon  \n",
    "\n",
    ":param start_year: start year of query date range (YYYY)\n",
    ":param end_year: end year of query date range (YYYY)\n",
    ":param taxon_key: GBIF taxon key\n",
    ":return: Set of names (unique strings)\n",
    "\"\"\"\n",
    "def get_gbif_recordedBy(start_year, end_year, taxon_key):\n",
    "    # Get the value of recordedBy for each record, where it exists\n",
    "    collectors = set()\n",
    "    \n",
    "    for offset in itertools.count(step=300):\n",
    "        r = requests.get(f\"\"\"https://api.gbif.org/v1/occurrence/search?year={start_year},{end_year}\n",
    "        &basisOfRecord=PRESERVED_SPECIMEN&taxon_key={gbif_taxon_id}&limit=300&offset={offset}\"\"\").json()\n",
    "        \n",
    "        # Comment this out if you don't want to keep an eye on the progress of the queries\n",
    "        # print(f\"offset: {offset}\")\n",
    "        \n",
    "        # Get the info we're interested in\n",
    "        # Could beef this up in the future to grab recordedBy ID, inst/dataset ID, taxa of interest, years of activity?\n",
    "        for d in r['results']:\n",
    "            if 'recordedBy' in d:\n",
    "                recordedBy = d['recordedBy']\n",
    "                # These delimiters seem to usually indicate > 1 name, so split and add back in\n",
    "                collectors.update(split_multiple_names(recordedBy, '&|\\|| and |;'))  \n",
    "            else:\n",
    "                continue\n",
    "\n",
    "        if r['endOfRecords']:\n",
    "            break\n",
    "\n",
    "    return collectors"
   ]
  },
  {
   "cell_type": "code",
   "execution_count": 21,
   "id": "7ddf5be7",
   "metadata": {},
   "outputs": [],
   "source": [
    "\"\"\"\n",
    "Identify strings which are more likely to contain a full given name vs. those that probably don't. \n",
    "Filters out single-word strings, leading or trailing single-character initials, unless the string also includes\n",
    "a title in (Mrs, Miss)\n",
    "\n",
    ":param input_names: iterable of names\n",
    ":return: List of full names, list of thinner/harder-to-resolve names\n",
    "\"\"\"\n",
    "def get_rid_of_gunk(input_names):\n",
    "    good_names = []\n",
    "    initials = []\n",
    "    \n",
    "    for p_name in input_names: # there's probably a better way of combining all these regex eh sarah\n",
    "        front_match = re.search('^[a-zA-Z]{3}', p_name)\n",
    "        tail_match = re.search('[a-zA-Z]{3}$', p_name)\n",
    "        multi_words = re.search('\\s', p_name)\n",
    "        \n",
    "        # Only keep if there's a miss/mrs title, or if it doesn't start or end with an initial\n",
    "        if (front_match and tail_match and multi_words) or 'Mrs' in p_name or 'Miss' in p_name:\n",
    "            good_names.append(p_name)\n",
    "        else:\n",
    "            initials.append(p_name)\n",
    "        \n",
    "    return good_names, initials"
   ]
  },
  {
   "cell_type": "code",
   "execution_count": 22,
   "id": "00544d93",
   "metadata": {},
   "outputs": [],
   "source": [
    "\"\"\"\n",
    "Break up strings that include common list delimiter characters \n",
    "\n",
    ":param input_names: iterable of names that might be a stringified list\n",
    ":param delimiters: Pipe delimited, single-string list of split-on characters. e.g., '&|\\|| and |;'\n",
    ":return: Input list with additional items resulting from split appended\n",
    "\"\"\"\n",
    "def split_multiple_names(input_names, delimiters):\n",
    "    \n",
    "    return [s.strip() for s in re.split(delimiters, input_names)]"
   ]
  },
  {
   "cell_type": "code",
   "execution_count": 23,
   "id": "a100e6b4",
   "metadata": {},
   "outputs": [],
   "source": [
    "\"\"\"\n",
    "Check for binomia matches\n",
    "\n",
    "\"\"\"\n",
    "def search_binomia_people_auto(names, start_year, end_year, cutoff_score=40):\n",
    "    autocomplete_base_url =  'https://api.bionomia.net/user.json?q=' # Useful to get confidence scores of match\n",
    "    details_base_url = 'https://api.bionomia.net/users/search?q=' # Holds more metadata, but no score\n",
    "    \n",
    "    matches = []\n",
    "    unmatches = []\n",
    "    \n",
    "    # url encode each name string and get result + score from autocomplete_base_url\n",
    "    for name in names:\n",
    "        response = requests.get(f\"{autocomplete_base_url}{urllib.parse.quote_plus(name)}&limit=1\")\n",
    "        response.raise_for_status()\n",
    "                           \n",
    "        # Un-matching queries return an empty list\n",
    "        if len(response.text) == 2:\n",
    "        #    print(f\"No matches found for {name}\")\n",
    "            unmatches.append(name)\n",
    "        else:\n",
    "        # stash top result dict with original query/name string\n",
    "        # keys: ['id', 'score', 'orcid', 'wikidata', 'fullname', 'fullname_reverse', 'thumbnail', 'lifespan', 'description'] \n",
    "            json_response = response.json()\n",
    "            top_match = json_response[0]\n",
    "            if top_match['score'] < cutoff_score:\n",
    "            #    print(f\"No matches > score {cutoff_score} for {name}. Best: {top_match['score']}: {top_match['fullname']}\")\n",
    "                unmatches.append(name)\n",
    "            else:\n",
    "            #    print(f\"Match found for {name}: {top_match['fullname']}. Score: {top_match['score']}\")\n",
    "                matches.append({'original_name': name, 'binomia_match': json_response[0]})\n",
    "\n",
    "    return matches, unmatches"
   ]
  },
  {
   "cell_type": "markdown",
   "id": "72a616cd",
   "metadata": {},
   "source": [
    "____\n",
    "### 1. Get GBIF botanist sample\n",
    "____"
   ]
  },
  {
   "cell_type": "code",
   "execution_count": 24,
   "id": "caa90c82",
   "metadata": {
    "scrolled": true
   },
   "outputs": [],
   "source": [
    "# Set daterange of interest and taxon-id (easily grabbable from occ search GUI url)\n",
    "gbif_collectors = get_gbif_recordedBy(start_year_range, end_year_range, gbif_taxon_id)"
   ]
  },
  {
   "cell_type": "markdown",
   "id": "a2254cb3",
   "metadata": {},
   "source": [
    "Other things that might be interesting:\n",
    "* How much is recordedByID being used? What kind of IDs are in there?\n",
    "* Distribution/frequency of each name variant within result set\n",
    "* Are names consistent within datasets/institutions"
   ]
  },
  {
   "cell_type": "markdown",
   "id": "188743d8",
   "metadata": {},
   "source": [
    "_______\n",
    "\n",
    "### 2. ID easier-to-resolve names\n",
    "_______\n"
   ]
  },
  {
   "cell_type": "code",
   "execution_count": 25,
   "id": "ef7b08d2",
   "metadata": {},
   "outputs": [],
   "source": [
    "good_names, initials = get_rid_of_gunk(gbif_collectors)"
   ]
  },
  {
   "cell_type": "code",
   "execution_count": 26,
   "id": "ceb0cde3",
   "metadata": {
    "scrolled": true
   },
   "outputs": [
    {
     "data": {
      "text/plain": [
       "['ATP in H. Vandenbroeck',\n",
       " 'Abbott, James',\n",
       " 'Abbé M. Gandoger',\n",
       " 'Abeleven THAJ',\n",
       " 'Abrahamson, Knut',\n",
       " 'Adalbert Geheeb',\n",
       " 'Addison, Rev Frederick',\n",
       " 'Adolf Grape',\n",
       " 'Adolf Roth',\n",
       " 'Adolphus Pansch']"
      ]
     },
     "execution_count": 26,
     "metadata": {},
     "output_type": "execute_result"
    }
   ],
   "source": [
    "good_names.sort()\n",
    "\n",
    "# Peek at the top 10 names\n",
    "good_names[:10]"
   ]
  },
  {
   "cell_type": "code",
   "execution_count": 27,
   "id": "b57362ea",
   "metadata": {},
   "outputs": [
    {
     "data": {
      "text/plain": [
       "'Full name count: 1283, initials count: 5095'"
      ]
     },
     "execution_count": 27,
     "metadata": {},
     "output_type": "execute_result"
    }
   ],
   "source": [
    "f\"Full name count: {len(good_names)}, initials count: {len(initials)}\""
   ]
  },
  {
   "cell_type": "markdown",
   "id": "39d8a015",
   "metadata": {},
   "source": [
    "_To-do : add summary chart of count of fuller names vs less full?_"
   ]
  },
  {
   "cell_type": "markdown",
   "id": "54562e18",
   "metadata": {},
   "source": [
    "_______\n",
    "\n",
    "### 3. Try to resolve against Binomia\n",
    "_______\n",
    "\n",
    "Using two endpoints: autocomplete widget and JSON-LD search for people endpoint  \n",
    "Docs: https://bionomia.net/developers\n",
    "\n",
    "##### Notes and other interesting stuff\n",
    "\n",
    "1. Does the order of words in a name matter? aka, any difference from `forename, surname` pattern vs `surname, forename`?  \n",
    "    * Doesn't look like it. e.g., the two calls below bring back the same match with an identical score (43.65668):   \n",
    "        `https://api.bionomia.net/user.json?q=Nilsson+Alb.&limit=1`  \n",
    "        `https://api.bionomia.net/user.json?q=Alb.+Nilsson&limit=1`  \n",
    "        \n",
    "            \n",
    "2. Does having a title/indicator of marital status make any difference to number of matches/scores?\n"
   ]
  },
  {
   "cell_type": "code",
   "execution_count": 28,
   "id": "be6f8d02",
   "metadata": {},
   "outputs": [],
   "source": [
    "# pass in list of names and date range\n",
    "matches, unmatches = search_binomia_people_auto(good_names, start_year=start_year_range, end_year=end_year_range)\n",
    "\n",
    "# See if there's much diff between confidence/match level for full vs initial-based names (manually spoof names for now)"
   ]
  },
  {
   "cell_type": "code",
   "execution_count": 29,
   "id": "bb46eb66",
   "metadata": {},
   "outputs": [
    {
     "data": {
      "text/plain": [
       "{'original_name': 'Abbé M. Gandoger',\n",
       " 'binomia_match': {'id': 11855,\n",
       "  'score': 52.513565,\n",
       "  'orcid': None,\n",
       "  'wikidata': 'Q2601687',\n",
       "  'fullname': 'Michel Gandoger',\n",
       "  'fullname_reverse': 'Gandoger, Michel',\n",
       "  'thumbnail': 'https://bionomia.net/images/photo24X24.png',\n",
       "  'lifespan': '&#42; May 10, 1850 &ndash; October  4, 1926 &dagger;',\n",
       "  'description': 'French botanist and mycologist (1850-1926)'}}"
      ]
     },
     "execution_count": 29,
     "metadata": {},
     "output_type": "execute_result"
    }
   ],
   "source": [
    "matches[0]"
   ]
  },
  {
   "cell_type": "markdown",
   "id": "e7217ac7",
   "metadata": {},
   "source": [
    "Next steps:\n",
    "- run queries that found a match + year of interest against the JSON-LD bionomia endpoint\n",
    "- see if abbreviated names work against the JSON-LD endpoint, providing there's a year\n",
    "- Stash any good matches for now\n",
    "- for full names what don't match: ID women and then try to run them against wikidata\n",
    "- If there is a match in wikidata: figure out the best info etc to dumpout to encourage folks to make profiles on bionomia\n",
    "- No match on wikidata or bionomia: clustering names/families of research? Look in BHL?"
   ]
  }
 ],
 "metadata": {
  "kernelspec": {
   "display_name": "gbif-api",
   "language": "python",
   "name": "gbif-api"
  },
  "language_info": {
   "codemirror_mode": {
    "name": "ipython",
    "version": 3
   },
   "file_extension": ".py",
   "mimetype": "text/x-python",
   "name": "python",
   "nbconvert_exporter": "python",
   "pygments_lexer": "ipython3",
   "version": "3.8.11"
  }
 },
 "nbformat": 4,
 "nbformat_minor": 5
}
