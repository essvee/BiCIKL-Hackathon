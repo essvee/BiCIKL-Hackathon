{
 "cells": [
  {
   "cell_type": "markdown",
   "id": "71560433",
   "metadata": {},
   "source": [
    "## BiCIKL-Hackathon Topic 9: Hidden Women in Science"
   ]
  },
  {
   "cell_type": "markdown",
   "id": "3b646a6d",
   "metadata": {},
   "source": [
    "____\n",
    "### Workplan\n",
    "____\n",
    "\n",
    "1. ~Get a list of botanists off GBIF that are affiliated with records from around a test subset of records (taxon, eveny year)~\n",
    "2. ~Try to pick out full names, both to make resolution easier and to identify likely not-men - whats the frequency of each in the data?~\n",
    "3. ~Try to resolve names against Bionomia - what fails and why~\n",
    "4. For names that aren't found in Binomia, try and resolve against wikidata\n",
    "5. Use any wikidata QIDs resulting from 3. and 4. to get gender label\n",
    "6. For names that aren't found in either source: try a few broad-brush approaches to identifying which ones might be women (could look for titles eg 'Ms Miss Mrs' or use gender-spotting API etc)\n",
    "7. For recs that might be women, run against GBIF occ ID again to get an idea of years of activity (slightly nonsensical in the test dataset, admittedly), major taxonomic groups of study, institutions of deposition? Useful output would be a set of unk women with enough hooks about their activities to encourage human research\n",
    "8. Could also run names against BHL OCR text search to get a list of possible references together to augment 7.  \n",
    "\n",
    "[Topic overview](https://github.com/pensoft/BiCIKL/tree/main/Topic%209%20Hidden%20women%20in%20science)\n",
    "\n"
   ]
  },
  {
   "cell_type": "markdown",
   "id": "4fee294d",
   "metadata": {},
   "source": [
    "___\n",
    "### Imports and params\n",
    "___"
   ]
  },
  {
   "cell_type": "code",
   "execution_count": 1,
   "id": "adcbdb72",
   "metadata": {},
   "outputs": [],
   "source": [
    "import requests\n",
    "import itertools\n",
    "import re\n",
    "import json\n",
    "import urllib.parse\n",
    "import time"
   ]
  },
  {
   "cell_type": "code",
   "execution_count": 2,
   "id": "687ad291",
   "metadata": {},
   "outputs": [],
   "source": [
    "start_year_range = 1870\n",
    "end_year_range = 1870\n",
    "gbif_taxon_id = 7819616"
   ]
  },
  {
   "cell_type": "markdown",
   "id": "99b80e4d",
   "metadata": {},
   "source": [
    "___\n",
    "### Functions\n",
    "___"
   ]
  },
  {
   "cell_type": "code",
   "execution_count": 3,
   "id": "8a7f5e15",
   "metadata": {},
   "outputs": [],
   "source": [
    "\"\"\"\n",
    "Retrieve a unique list of values in GBIF occurrence dwc.recordedBy fields for a given date range and taxon  \n",
    "\n",
    ":param start_year: start year of query date range (YYYY)\n",
    ":param end_year: end year of query date range (YYYY)\n",
    ":param taxon_key: GBIF taxon key\n",
    ":return: Set of names (unique strings)\n",
    "\"\"\"\n",
    "def get_gbif_recordedBy(start_year, end_year, taxon_key):\n",
    "    # Get the value of recordedBy for each record, where it exists\n",
    "    collectors = set()\n",
    "    \n",
    "    for offset in itertools.count(step=300):\n",
    "        r = requests.get(f\"\"\"https://api.gbif.org/v1/occurrence/search?year={start_year},{end_year}\n",
    "        &basisOfRecord=PRESERVED_SPECIMEN&taxon_key={gbif_taxon_id}&limit=300&offset={offset}\"\"\").json()\n",
    "        \n",
    "        # Comment this out if you don't want to keep an eye on the progress of the queries\n",
    "        # print(f\"offset: {offset}\")\n",
    "        \n",
    "        # Get the info we're interested in\n",
    "        # Could beef this up in the future to grab recordedBy ID, inst/dataset ID, taxa of interest, years of activity?\n",
    "        for d in r['results']:\n",
    "            if 'recordedBy' in d:\n",
    "                recordedBy = d['recordedBy']\n",
    "                # These delimiters seem to usually indicate > 1 name, so split and add back in\n",
    "                collectors.update(split_multiple_names(recordedBy, '&|\\|| and |;'))  \n",
    "            else:\n",
    "                continue\n",
    "\n",
    "        if r['endOfRecords']:\n",
    "            break\n",
    "\n",
    "    return collectors"
   ]
  },
  {
   "cell_type": "code",
   "execution_count": 4,
   "id": "2e6d4f03",
   "metadata": {},
   "outputs": [],
   "source": [
    "\"\"\"\n",
    "Identify strings which are more likely to contain a full given name vs. those that probably don't. \n",
    "Filters out single-word strings, leading or trailing single-character initials, unless the string also includes\n",
    "a title in (Mrs, Miss)\n",
    "\n",
    ":param input_names: iterable of names\n",
    ":return: List of full names, list of thinner/harder-to-resolve names\n",
    "\"\"\"\n",
    "def get_rid_of_gunk(input_names):\n",
    "    good_names = []\n",
    "    initials = []\n",
    "    \n",
    "    for p_name in input_names: # there's probably a better way of combining all these regex eh sarah\n",
    "        front_match = re.search('^[a-zA-Z]{3}', p_name)\n",
    "        tail_match = re.search('[a-zA-Z]{3}$', p_name)\n",
    "        multi_words = re.search('\\s', p_name)\n",
    "        \n",
    "        # Only keep if there's a miss/mrs title, or if it doesn't start or end with an initial\n",
    "        if (front_match and tail_match and multi_words) or 'Mrs' in p_name or 'Miss' in p_name:\n",
    "            good_names.append(p_name)\n",
    "        else:\n",
    "            initials.append(p_name)\n",
    "        \n",
    "    return good_names, initials"
   ]
  },
  {
   "cell_type": "code",
   "execution_count": 5,
   "id": "7a3969ef",
   "metadata": {},
   "outputs": [],
   "source": [
    "\"\"\"\n",
    "Break up strings that include common list delimiter characters \n",
    "\n",
    ":param input_names: iterable of names that might be a stringified list\n",
    ":param delimiters: Pipe delimited, single-string list of split-on characters. e.g., '&|\\|| and |;'\n",
    ":return: Input list with additional items resulting from split appended\n",
    "\"\"\"\n",
    "def split_multiple_names(input_names, delimiters):\n",
    "    \n",
    "    return [s.strip() for s in re.split(delimiters, input_names)]"
   ]
  },
  {
   "cell_type": "code",
   "execution_count": 6,
   "id": "a100e6b4",
   "metadata": {},
   "outputs": [],
   "source": [
    "\"\"\"\n",
    "Broad-brush check for matches against Bionomia\n",
    "\n",
    "\"\"\"\n",
    "def search_bionomia_people_auto(names, cutoff_score=50):\n",
    "    autocomplete_base_url =  'https://api.bionomia.net/user.json?q=' # Useful to get confidence scores of match\n",
    "    \n",
    "    matches = []\n",
    "    unmatches = []\n",
    "    \n",
    "    # url encode each name string and get result + score from autocomplete_base_url\n",
    "    for name in names:\n",
    "        response = requests.get(f\"{autocomplete_base_url}{urllib.parse.quote_plus(name)}&limit=1\")\n",
    "        response.raise_for_status()\n",
    "                           \n",
    "        # Un-matching queries return an empty list\n",
    "        if len(response.text) == 2:\n",
    "            print(f\"No matches found for {name}\")\n",
    "            unmatches.append(name)\n",
    "        else:\n",
    "        # stash top result dict with original query/name string\n",
    "        # keys: ['id', 'score', 'orcid', 'wikidata', 'fullname', 'fullname_reverse', 'thumbnail', 'lifespan', 'description'] \n",
    "            json_response = response.json()\n",
    "            top_match = json_response[0]\n",
    "            if top_match['score'] < cutoff_score:\n",
    "                print(f\"No matches > score {cutoff_score} for {name}. Best: {top_match['score']}: {top_match['fullname']}\")\n",
    "                unmatches.append(name)\n",
    "            else:\n",
    "                print(f\"Match found for {name}: {top_match['fullname']}. Score: {top_match['score']}\")\n",
    "                matches.append({'original_name': name, 'bionomia_match': json_response[0]})\n",
    "\n",
    "    return matches, unmatches"
   ]
  },
  {
   "cell_type": "code",
   "execution_count": 7,
   "id": "47bdb213",
   "metadata": {},
   "outputs": [],
   "source": [
    "\"\"\"\n",
    "Stricter check for matches against Bionomia - won't return matches if the collection data is not within the \n",
    "lifespan of the person defined in wikidata/bionomia (ex. year of birth)\n",
    "\n",
    "\"\"\"\n",
    "def search_bionomia_people_detail(names, year):\n",
    "    details_base_url = 'https://api.bionomia.net/users/search?'\n",
    "    \n",
    "    for name in names:\n",
    "        \n",
    "        # throttle the connection - getting connection timeout errors so maybe this will help...\n",
    "        time.sleep(1)\n",
    "        \n",
    "        query_params = {'q': name['original_name'], \n",
    "                        'date': year, \n",
    "                        'strict': 'true',\n",
    "                        'limit': 1\n",
    "                       }\n",
    "        response = requests.get(details_base_url, params=query_params)\n",
    "        response.raise_for_status()\n",
    "        \n",
    "        print(response.url)\n",
    "        \n",
    "        json_response = response.json()\n",
    "        \n",
    "        # Check we've returned results - no score/confidence cutoff availabel here though\n",
    "        result_count = json_response['opensearch:totalResults']\n",
    "        \n",
    "        # unpack the first ['item'] in dataElement and handle no results scenario\n",
    "        if result_count == 0:\n",
    "            continue\n",
    "        else:\n",
    "            # store in the original dict to help compare results from the different approachs\n",
    "            name['bionomia_detail_match'] = json_response['dataFeedElement'][0]['item']\n",
    "            \n",
    "    return names"
   ]
  },
  {
   "cell_type": "markdown",
   "id": "72a616cd",
   "metadata": {},
   "source": [
    "____\n",
    "### 1. Get GBIF botanist sample\n",
    "____"
   ]
  },
  {
   "cell_type": "code",
   "execution_count": 8,
   "id": "caa90c82",
   "metadata": {
    "scrolled": true
   },
   "outputs": [],
   "source": [
    "# Set daterange of interest and taxon-id (easily grabbable from occ search GUI url)\n",
    "gbif_collectors = get_gbif_recordedBy(start_year_range, end_year_range, gbif_taxon_id)"
   ]
  },
  {
   "cell_type": "markdown",
   "id": "a2254cb3",
   "metadata": {},
   "source": [
    "Other things that might be interesting:\n",
    "* How much is recordedByID being used? What kind of IDs are in there?\n",
    "* Distribution/frequency of each name variant within result set\n",
    "* Are names consistent within datasets/institutions"
   ]
  },
  {
   "cell_type": "markdown",
   "id": "188743d8",
   "metadata": {},
   "source": [
    "_______\n",
    "\n",
    "### 2. ID easier-to-resolve names\n",
    "_______\n"
   ]
  },
  {
   "cell_type": "code",
   "execution_count": 9,
   "id": "ef7b08d2",
   "metadata": {},
   "outputs": [],
   "source": [
    "good_names, initials = get_rid_of_gunk(gbif_collectors)"
   ]
  },
  {
   "cell_type": "code",
   "execution_count": 10,
   "id": "ceb0cde3",
   "metadata": {
    "scrolled": true
   },
   "outputs": [
    {
     "data": {
      "text/plain": [
       "['Alexander Karl (Carl) Heinrich Braun',\n",
       " 'Axel Blytt',\n",
       " 'Axel Blytt, Arnell',\n",
       " 'Axel Tullberg',\n",
       " 'Blytt, Arnell',\n",
       " 'Bror Tydell',\n",
       " 'Carl Fredrik Otto Nordstedt',\n",
       " 'Carl Fredrik Otto Norstedt',\n",
       " 'Collector unknown',\n",
       " 'Conr. Indebetou']"
      ]
     },
     "execution_count": 10,
     "metadata": {},
     "output_type": "execute_result"
    }
   ],
   "source": [
    "good_names.sort()\n",
    "\n",
    "# Peek at the top 10 names\n",
    "good_names[:10]"
   ]
  },
  {
   "cell_type": "code",
   "execution_count": 11,
   "id": "b57362ea",
   "metadata": {},
   "outputs": [
    {
     "data": {
      "text/plain": [
       "'Full name count: 37, initials count: 99'"
      ]
     },
     "execution_count": 11,
     "metadata": {},
     "output_type": "execute_result"
    }
   ],
   "source": [
    "f\"Full name count: {len(good_names)}, initials count: {len(initials)}\""
   ]
  },
  {
   "cell_type": "markdown",
   "id": "39d8a015",
   "metadata": {},
   "source": [
    "_To-do : add summary chart of count of fuller names vs less full?_"
   ]
  },
  {
   "cell_type": "markdown",
   "id": "54562e18",
   "metadata": {},
   "source": [
    "_______\n",
    "\n",
    "### 3. Try to resolve against Binomia\n",
    "_______\n",
    "\n",
    "Using two endpoints: autocomplete widget and JSON-LD search for people endpoint  \n",
    "Docs: https://bionomia.net/developers\n",
    "\n",
    "##### Notes and other interesting stuff\n",
    "\n",
    "1. Does the order of words in a name matter? aka, any difference from `forename, surname` pattern vs `surname, forename`?  \n",
    "    * Doesn't look like it. e.g., the two calls below bring back the same match with an identical score (43.65668):   \n",
    "        `https://api.bionomia.net/user.json?q=Nilsson+Alb.&limit=1`  \n",
    "        `https://api.bionomia.net/user.json?q=Alb.+Nilsson&limit=1`  \n",
    "        \n",
    "            \n",
    "2. Does having a title/indicator of marital status make any difference to number of matches/scores?\n"
   ]
  },
  {
   "cell_type": "code",
   "execution_count": 12,
   "id": "be6f8d02",
   "metadata": {},
   "outputs": [
    {
     "name": "stdout",
     "output_type": "stream",
     "text": [
      "Match found for Alexander Karl (Carl) Heinrich Braun: Alexander Braun. Score: 67.03193\n",
      "Match found for Axel Blytt: Axel Gudbrand Blytt. Score: 56.20684\n",
      "No matches > score 50 for Axel Blytt, Arnell. Best: 48.653996: J. Hal Arnell\n",
      "Match found for Axel Tullberg: Sven Axel Tullberg. Score: 61.397266\n",
      "No matches > score 50 for Blytt, Arnell. Best: 48.653996: J. Hal Arnell\n",
      "No matches > score 50 for Bror Tydell. Best: 25.896307: Bror Hamfelt\n",
      "Match found for Carl Fredrik Otto Nordstedt: Carl Fredrik Otto Nordstedt. Score: 75.72169\n",
      "No matches > score 50 for Carl Fredrik Otto Norstedt. Best: 33.059036: Carl Friedrich Eduard Otto\n",
      "No matches > score 50 for Collector unknown. Best: 15.09475: Walter Scott\n",
      "Match found for Conr. Indebetou: Carl Gustaf Indebetou. Score: 50.336353\n",
      "Match found for Conrad Indebetou: Carl Gustaf Indebetou. Score: 50.336353\n",
      "Match found for Edouard Rostan: Edouard Rostan. Score: 66.8318\n",
      "No matches > score 50 for Flodén, Alexis. Best: 23.354412: Alexis Chassang\n",
      "Match found for Frederic Stratton: Frederic Stratton. Score: 60.23281\n",
      "Match found for Frederick Arnold Lees: Frederick Arnold Lees. Score: 61.451565\n",
      "Match found for Gust. Bernoulli: Carl Gustav Bernoulli. Score: 52.890484\n",
      "Match found for Hampus Wilhelm Arnell: Hampus Wilhelm Arnell. Score: 69.93576\n",
      "No matches > score 50 for Herb Suringar WFR. Best: 48.653996: Jan Valckenier Suringar\n",
      "Match found for Herb Weber-van Bosse: Anna Weber-van Bosse. Score: 59.31223\n",
      "No matches > score 50 for Jair Törnblad. Best: 13.731631: Jair Hernando Castro Romero\n",
      "Match found for James Groves: James Groves. Score: 56.52253\n",
      "Match found for Jean Armand Isidore Pancher: Jean Armand Isidore Pancher. Score: 81.42685\n",
      "No matches > score 50 for Johan Elias Strömberg. Best: 34.16261: Hans Elias\n",
      "Match found for John Thomas Irvine Boswell Syme: John Thomas Irvine Boswell Syme. Score: 89.83764\n",
      "Match found for Lars Johan Wahlstedt: Lars Johan Wahlstedt. Score: 68.910904\n",
      "No matches > score 50 for Lundquist, Per Fredrik Alexander. Best: 24.843126: Horace Alexander\n",
      "Match found for Mag. Östman: Magnus Östman. Score: 52.890484\n",
      "No matches > score 50 for Mag. Östmann. Best: 15.09475: Ivan Kurtek\n",
      "Match found for Nordstedt CFO: Carl Fredrik Otto Nordstedt. Score: 52.890484\n",
      "No matches > score 50 for Nordstedt, Carl Fredrik Otto. Best: 33.059036: Carl Friedrich Eduard Otto\n",
      "Match found for Otto Nordstedt: Carl Fredrik Otto Nordstedt. Score: 59.99709\n",
      "No matches > score 50 for Strömborg, Johan Elias. Best: 34.16261: Hans Elias\n",
      "No matches > score 50 for Tullberg, Sven Axel Teodor. Best: 34.620956: Sven Axel Tullberg\n",
      "No matches > score 50 for Wahlstedt, Lars Johan. Best: 20.795076: Lars Salvius\n",
      "Match found for Wilhelm Berndes: Wilhelm Eugene Berndes. Score: 57.41669\n",
      "Match found for William Curnow: William Curnow. Score: 63.560375\n",
      "No matches > score 50 for see Collection Note. Best: 16.310486: Raphaël de Noter\n"
     ]
    }
   ],
   "source": [
    "# pass in list of names and date range\n",
    "matches, unmatches = search_bionomia_people_auto(good_names)\n",
    "\n",
    "# See if there's much diff between confidence/match level for full vs initial-based names (manually spoof names for now)"
   ]
  },
  {
   "cell_type": "code",
   "execution_count": 13,
   "id": "c11b24a2",
   "metadata": {},
   "outputs": [
    {
     "data": {
      "text/plain": [
       "[{'original_name': 'Alexander Karl (Carl) Heinrich Braun',\n",
       "  'bionomia_match': {'id': 21926,\n",
       "   'score': 67.03193,\n",
       "   'orcid': None,\n",
       "   'wikidata': 'Q62855',\n",
       "   'fullname': 'Alexander Braun',\n",
       "   'fullname_reverse': 'Braun, Alexander',\n",
       "   'thumbnail': 'https://abekpgaoen.cloudimg.io/crop/24x24/n/https://commons.wikimedia.org/wiki/Special:FilePath/Alexander%20Braun%20(1805-1877).png',\n",
       "   'lifespan': '&#42; May 10, 1805 &ndash; March 29, 1877 &dagger;',\n",
       "   'description': 'German botanist and university teacher (1805-1877)'}},\n",
       " {'original_name': 'Axel Blytt',\n",
       "  'bionomia_match': {'id': 10622,\n",
       "   'score': 56.20684,\n",
       "   'orcid': None,\n",
       "   'wikidata': 'Q610981',\n",
       "   'fullname': 'Axel Gudbrand Blytt',\n",
       "   'fullname_reverse': 'Blytt, Axel Gudbrand',\n",
       "   'thumbnail': 'https://abekpgaoen.cloudimg.io/crop/24x24/n/https://commons.wikimedia.org/wiki/Special:FilePath/Axel%20blytt.jpg',\n",
       "   'lifespan': '&#42; May 19, 1843 &ndash; July 18, 1898 &dagger;',\n",
       "   'description': 'Norwegian botanist and geologist (1843–1898)'}},\n",
       " {'original_name': 'Axel Tullberg',\n",
       "  'bionomia_match': {'id': 48804,\n",
       "   'score': 61.397266,\n",
       "   'orcid': None,\n",
       "   'wikidata': 'Q6335227',\n",
       "   'fullname': 'Sven Axel Tullberg',\n",
       "   'fullname_reverse': 'Tullberg, Sven Axel',\n",
       "   'thumbnail': 'https://bionomia.net/images/photo24X24.png',\n",
       "   'lifespan': '&#42; February 27, 1852 &ndash; December 15, 1886 &dagger;',\n",
       "   'description': 'botanist (1852-1886)'}},\n",
       " {'original_name': 'Carl Fredrik Otto Nordstedt',\n",
       "  'bionomia_match': {'id': 13111,\n",
       "   'score': 75.72169,\n",
       "   'orcid': None,\n",
       "   'wikidata': 'Q6015981',\n",
       "   'fullname': 'Carl Fredrik Otto Nordstedt',\n",
       "   'fullname_reverse': 'Nordstedt, Carl Fredrik Otto',\n",
       "   'thumbnail': 'https://abekpgaoen.cloudimg.io/crop/24x24/n/https://commons.wikimedia.org/wiki/Special:FilePath/Otto%20Nordstedt%20i%20LBFs%20jubileumsskrift%201933.jpg',\n",
       "   'lifespan': '&#42; January 20, 1838 &ndash; February  6, 1924 &dagger;',\n",
       "   'description': 'Swedish botanist (1838–1924)'}},\n",
       " {'original_name': 'Conr. Indebetou',\n",
       "  'bionomia_match': {'id': 86378,\n",
       "   'score': 50.336353,\n",
       "   'orcid': None,\n",
       "   'wikidata': 'Q5823030',\n",
       "   'fullname': 'Carl Gustaf Indebetou',\n",
       "   'fullname_reverse': 'Indebetou, Carl Gustaf',\n",
       "   'thumbnail': 'https://abekpgaoen.cloudimg.io/crop/24x24/n/https://commons.wikimedia.org/wiki/Special:FilePath/Carl%20Gustaf%20Indebetou.jpg',\n",
       "   'lifespan': '&#42; January 16, 1801 &ndash; March  6, 1893 &dagger;',\n",
       "   'description': 'Swedish politician'}},\n",
       " {'original_name': 'Conrad Indebetou',\n",
       "  'bionomia_match': {'id': 86378,\n",
       "   'score': 50.336353,\n",
       "   'orcid': None,\n",
       "   'wikidata': 'Q5823030',\n",
       "   'fullname': 'Carl Gustaf Indebetou',\n",
       "   'fullname_reverse': 'Indebetou, Carl Gustaf',\n",
       "   'thumbnail': 'https://abekpgaoen.cloudimg.io/crop/24x24/n/https://commons.wikimedia.org/wiki/Special:FilePath/Carl%20Gustaf%20Indebetou.jpg',\n",
       "   'lifespan': '&#42; January 16, 1801 &ndash; March  6, 1893 &dagger;',\n",
       "   'description': 'Swedish politician'}},\n",
       " {'original_name': 'Edouard Rostan',\n",
       "  'bionomia_match': {'id': 50402,\n",
       "   'score': 66.8318,\n",
       "   'orcid': None,\n",
       "   'wikidata': 'Q21607448',\n",
       "   'fullname': 'Edouard Rostan',\n",
       "   'fullname_reverse': 'Rostan, Edouard',\n",
       "   'thumbnail': 'https://bionomia.net/images/photo24X24.png',\n",
       "   'lifespan': '&#42; 1826 &ndash; 1895 &dagger;',\n",
       "   'description': 'botanist (1826-1895)'}},\n",
       " {'original_name': 'Frederic Stratton',\n",
       "  'bionomia_match': {'id': 45891,\n",
       "   'score': 60.23281,\n",
       "   'orcid': None,\n",
       "   'wikidata': 'Q21609937',\n",
       "   'fullname': 'Frederic Stratton',\n",
       "   'fullname_reverse': 'Stratton, Frederic',\n",
       "   'thumbnail': 'https://bionomia.net/images/photo24X24.png',\n",
       "   'lifespan': '&#42; 1840 &ndash; 1916 &dagger;',\n",
       "   'description': 'botanist (1840-1916)'}},\n",
       " {'original_name': 'Frederick Arnold Lees',\n",
       "  'bionomia_match': {'id': 46717,\n",
       "   'score': 61.451565,\n",
       "   'orcid': None,\n",
       "   'wikidata': 'Q21518563',\n",
       "   'fullname': 'Frederick Arnold Lees',\n",
       "   'fullname_reverse': 'Lees, Frederick Arnold',\n",
       "   'thumbnail': 'https://bionomia.net/images/photo24X24.png',\n",
       "   'lifespan': '&#42; 1847 &ndash; 1921 &dagger;',\n",
       "   'description': 'botanist (1847-1921)'}},\n",
       " {'original_name': 'Gust. Bernoulli',\n",
       "  'bionomia_match': {'id': 49708,\n",
       "   'score': 52.890484,\n",
       "   'orcid': None,\n",
       "   'wikidata': 'Q121991',\n",
       "   'fullname': 'Carl Gustav Bernoulli',\n",
       "   'fullname_reverse': 'Bernoulli, Carl Gustav',\n",
       "   'thumbnail': 'https://bionomia.net/images/photo24X24.png',\n",
       "   'lifespan': '&#42; 1834 &ndash; 1878 &dagger;',\n",
       "   'description': 'Swiss botanist and archaeologist (1834-1878)'}},\n",
       " {'original_name': 'Hampus Wilhelm Arnell',\n",
       "  'bionomia_match': {'id': 13590,\n",
       "   'score': 69.93576,\n",
       "   'orcid': None,\n",
       "   'wikidata': 'Q5559534',\n",
       "   'fullname': 'Hampus Wilhelm Arnell',\n",
       "   'fullname_reverse': 'Arnell, Hampus Wilhelm',\n",
       "   'thumbnail': 'https://abekpgaoen.cloudimg.io/crop/24x24/n/https://commons.wikimedia.org/wiki/Special:FilePath/Hampus%20Wilhelm%20Arnell.png',\n",
       "   'lifespan': '&#42; August  2, 1848 &ndash; December 18, 1932 &dagger;',\n",
       "   'description': 'Swedish bryologist (1848-1932)'}},\n",
       " {'original_name': 'Herb Weber-van Bosse',\n",
       "  'bionomia_match': {'id': 11126,\n",
       "   'score': 59.31223,\n",
       "   'orcid': None,\n",
       "   'wikidata': 'Q1940785',\n",
       "   'fullname': 'Anna Weber-van Bosse',\n",
       "   'fullname_reverse': 'Bosse, Anna Weber-van',\n",
       "   'thumbnail': 'https://abekpgaoen.cloudimg.io/crop/24x24/n/https://commons.wikimedia.org/wiki/Special:FilePath/Anna%20Antoinette%20Weber-van%20Bosse.jpg',\n",
       "   'lifespan': '&#42; March 27, 1852 &ndash; October 29, 1942 &dagger;',\n",
       "   'description': 'Dutch phycologist (1852-1942)'}},\n",
       " {'original_name': 'James Groves',\n",
       "  'bionomia_match': {'id': 46466,\n",
       "   'score': 56.52253,\n",
       "   'orcid': None,\n",
       "   'wikidata': 'Q21512721',\n",
       "   'fullname': 'James Groves',\n",
       "   'fullname_reverse': 'Groves, James',\n",
       "   'thumbnail': 'https://bionomia.net/images/photo24X24.png',\n",
       "   'lifespan': '&#42; 1858 &ndash; 1933 &dagger;',\n",
       "   'description': 'British botanist (1858-1933)'}},\n",
       " {'original_name': 'Jean Armand Isidore Pancher',\n",
       "  'bionomia_match': {'id': 46312,\n",
       "   'score': 81.42685,\n",
       "   'orcid': None,\n",
       "   'wikidata': 'Q3170415',\n",
       "   'fullname': 'Jean Armand Isidore Pancher',\n",
       "   'fullname_reverse': 'Pancher, Jean Armand Isidore',\n",
       "   'thumbnail': 'https://bionomia.net/images/photo24X24.png',\n",
       "   'lifespan': '&#42; 1814 &ndash; 1877 &dagger;',\n",
       "   'description': 'French botanist (1814-1877)'}},\n",
       " {'original_name': 'John Thomas Irvine Boswell Syme',\n",
       "  'bionomia_match': {'id': 14205,\n",
       "   'score': 89.83764,\n",
       "   'orcid': None,\n",
       "   'wikidata': 'Q5933649',\n",
       "   'fullname': 'John Thomas Irvine Boswell Syme',\n",
       "   'fullname_reverse': 'Syme, John Thomas Irvine Boswell',\n",
       "   'thumbnail': 'https://bionomia.net/images/photo24X24.png',\n",
       "   'lifespan': '&#42; December  1, 1822 &ndash; January 31, 1888 &dagger;',\n",
       "   'description': 'British botanist (1822–1888)'}},\n",
       " {'original_name': 'Lars Johan Wahlstedt',\n",
       "  'bionomia_match': {'id': 16150,\n",
       "   'score': 68.910904,\n",
       "   'orcid': None,\n",
       "   'wikidata': 'Q16650555',\n",
       "   'fullname': 'Lars Johan Wahlstedt',\n",
       "   'fullname_reverse': 'Wahlstedt, Lars Johan',\n",
       "   'thumbnail': 'https://abekpgaoen.cloudimg.io/crop/24x24/n/https://commons.wikimedia.org/wiki/Special:FilePath/1M16-B145198%2098.jpg',\n",
       "   'lifespan': '&#42; March 27, 1836 &ndash; April 26, 1917 &dagger;',\n",
       "   'description': 'botanist (1836-1917)'}},\n",
       " {'original_name': 'Mag. Östman',\n",
       "  'bionomia_match': {'id': 52555,\n",
       "   'score': 52.890484,\n",
       "   'orcid': None,\n",
       "   'wikidata': 'Q21522469',\n",
       "   'fullname': 'Magnus Östman',\n",
       "   'fullname_reverse': 'Östman, Magnus',\n",
       "   'thumbnail': 'https://bionomia.net/images/photo24X24.png',\n",
       "   'lifespan': '&#42; 1852 &ndash; 1927 &dagger;',\n",
       "   'description': 'Swedish botanist (1852-1927)'}},\n",
       " {'original_name': 'Nordstedt CFO',\n",
       "  'bionomia_match': {'id': 13111,\n",
       "   'score': 52.890484,\n",
       "   'orcid': None,\n",
       "   'wikidata': 'Q6015981',\n",
       "   'fullname': 'Carl Fredrik Otto Nordstedt',\n",
       "   'fullname_reverse': 'Nordstedt, Carl Fredrik Otto',\n",
       "   'thumbnail': 'https://abekpgaoen.cloudimg.io/crop/24x24/n/https://commons.wikimedia.org/wiki/Special:FilePath/Otto%20Nordstedt%20i%20LBFs%20jubileumsskrift%201933.jpg',\n",
       "   'lifespan': '&#42; January 20, 1838 &ndash; February  6, 1924 &dagger;',\n",
       "   'description': 'Swedish botanist (1838–1924)'}},\n",
       " {'original_name': 'Otto Nordstedt',\n",
       "  'bionomia_match': {'id': 13111,\n",
       "   'score': 59.99709,\n",
       "   'orcid': None,\n",
       "   'wikidata': 'Q6015981',\n",
       "   'fullname': 'Carl Fredrik Otto Nordstedt',\n",
       "   'fullname_reverse': 'Nordstedt, Carl Fredrik Otto',\n",
       "   'thumbnail': 'https://abekpgaoen.cloudimg.io/crop/24x24/n/https://commons.wikimedia.org/wiki/Special:FilePath/Otto%20Nordstedt%20i%20LBFs%20jubileumsskrift%201933.jpg',\n",
       "   'lifespan': '&#42; January 20, 1838 &ndash; February  6, 1924 &dagger;',\n",
       "   'description': 'Swedish botanist (1838–1924)'}},\n",
       " {'original_name': 'Wilhelm Berndes',\n",
       "  'bionomia_match': {'id': 47268,\n",
       "   'score': 57.41669,\n",
       "   'orcid': None,\n",
       "   'wikidata': 'Q21506016',\n",
       "   'fullname': 'Wilhelm Eugene Berndes',\n",
       "   'fullname_reverse': 'Berndes, Wilhelm Eugene',\n",
       "   'thumbnail': 'https://bionomia.net/images/photo24X24.png',\n",
       "   'lifespan': '&#42; 1844 &ndash; 1882 &dagger;',\n",
       "   'description': 'botanist (1844-1882)'}}]"
      ]
     },
     "execution_count": 13,
     "metadata": {},
     "output_type": "execute_result"
    }
   ],
   "source": [
    "matches[0:20]"
   ]
  },
  {
   "cell_type": "code",
   "execution_count": 14,
   "id": "dddbb908",
   "metadata": {},
   "outputs": [
    {
     "data": {
      "text/plain": [
       "['Axel Blytt, Arnell',\n",
       " 'Blytt, Arnell',\n",
       " 'Bror Tydell',\n",
       " 'Carl Fredrik Otto Norstedt',\n",
       " 'Collector unknown',\n",
       " 'Flodén, Alexis',\n",
       " 'Herb Suringar WFR',\n",
       " 'Jair Törnblad',\n",
       " 'Johan Elias Strömberg',\n",
       " 'Lundquist, Per Fredrik Alexander']"
      ]
     },
     "execution_count": 14,
     "metadata": {},
     "output_type": "execute_result"
    }
   ],
   "source": [
    "unmatches[:10]"
   ]
  },
  {
   "cell_type": "code",
   "execution_count": 15,
   "id": "69b4c345",
   "metadata": {},
   "outputs": [
    {
     "data": {
      "text/plain": [
       "'Out of 37 non-initialised names, 21 were matched against the basic Bionomia endpoint (precision/accuracy tbc!)'"
      ]
     },
     "execution_count": 15,
     "metadata": {},
     "output_type": "execute_result"
    }
   ],
   "source": [
    "f\"Out of {len(good_names)} non-initialised names, {len(matches)} were matched against the basic Bionomia endpoint (precision/accuracy tbc!)\""
   ]
  },
  {
   "cell_type": "code",
   "execution_count": 16,
   "id": "09149ca4",
   "metadata": {},
   "outputs": [
    {
     "name": "stdout",
     "output_type": "stream",
     "text": [
      "Alexander Karl (Carl) Heinrich Braun -> Alexander Braun (Q62855)\n",
      "Axel Blytt -> Axel Gudbrand Blytt (Q610981)\n",
      "Axel Tullberg -> Sven Axel Tullberg (Q6335227)\n",
      "Carl Fredrik Otto Nordstedt -> Carl Fredrik Otto Nordstedt (Q6015981)\n",
      "Conr. Indebetou -> Carl Gustaf Indebetou (Q5823030)\n",
      "Conrad Indebetou -> Carl Gustaf Indebetou (Q5823030)\n",
      "Edouard Rostan -> Edouard Rostan (Q21607448)\n",
      "Frederic Stratton -> Frederic Stratton (Q21609937)\n",
      "Frederick Arnold Lees -> Frederick Arnold Lees (Q21518563)\n",
      "Gust. Bernoulli -> Carl Gustav Bernoulli (Q121991)\n",
      "Hampus Wilhelm Arnell -> Hampus Wilhelm Arnell (Q5559534)\n",
      "Herb Weber-van Bosse -> Anna Weber-van Bosse (Q1940785)\n",
      "James Groves -> James Groves (Q21512721)\n",
      "Jean Armand Isidore Pancher -> Jean Armand Isidore Pancher (Q3170415)\n",
      "John Thomas Irvine Boswell Syme -> John Thomas Irvine Boswell Syme (Q5933649)\n",
      "Lars Johan Wahlstedt -> Lars Johan Wahlstedt (Q16650555)\n",
      "Mag. Östman -> Magnus Östman (Q21522469)\n",
      "Nordstedt CFO -> Carl Fredrik Otto Nordstedt (Q6015981)\n",
      "Otto Nordstedt -> Carl Fredrik Otto Nordstedt (Q6015981)\n",
      "Wilhelm Berndes -> Wilhelm Eugene Berndes (Q21506016)\n",
      "William Curnow -> William Curnow (Q21509664)\n"
     ]
    }
   ],
   "source": [
    "# Quick eyeball to see how many bad matches the first pass against Bionomia returned\n",
    "# Will using year of collection + json-ld endpoint removed/improve these? Looking for improved accuracy, not precision\n",
    "for match in matches:\n",
    "    print(f\"{match['original_name']} -> {match['bionomia_match']['fullname']} ({match['bionomia_match']['wikidata']})\")"
   ]
  },
  {
   "cell_type": "code",
   "execution_count": 17,
   "id": "e591f5cc",
   "metadata": {
    "scrolled": true
   },
   "outputs": [
    {
     "name": "stdout",
     "output_type": "stream",
     "text": [
      "https://api.bionomia.net/users/search?q=Alexander+Karl+%28Carl%29+Heinrich+Braun&date=1870&strict=true&limit=1\n",
      "https://api.bionomia.net/users/search?q=Axel+Blytt&date=1870&strict=true&limit=1\n",
      "https://api.bionomia.net/users/search?q=Axel+Tullberg&date=1870&strict=true&limit=1\n",
      "https://api.bionomia.net/users/search?q=Carl+Fredrik+Otto+Nordstedt&date=1870&strict=true&limit=1\n",
      "https://api.bionomia.net/users/search?q=Conr.+Indebetou&date=1870&strict=true&limit=1\n",
      "https://api.bionomia.net/users/search?q=Conrad+Indebetou&date=1870&strict=true&limit=1\n",
      "https://api.bionomia.net/users/search?q=Edouard+Rostan&date=1870&strict=true&limit=1\n",
      "https://api.bionomia.net/users/search?q=Frederic+Stratton&date=1870&strict=true&limit=1\n",
      "https://api.bionomia.net/users/search?q=Frederick+Arnold+Lees&date=1870&strict=true&limit=1\n",
      "https://api.bionomia.net/users/search?q=Gust.+Bernoulli&date=1870&strict=true&limit=1\n",
      "https://api.bionomia.net/users/search?q=Hampus+Wilhelm+Arnell&date=1870&strict=true&limit=1\n",
      "https://api.bionomia.net/users/search?q=Herb+Weber-van+Bosse&date=1870&strict=true&limit=1\n",
      "https://api.bionomia.net/users/search?q=James+Groves&date=1870&strict=true&limit=1\n",
      "https://api.bionomia.net/users/search?q=Jean+Armand+Isidore+Pancher&date=1870&strict=true&limit=1\n",
      "https://api.bionomia.net/users/search?q=John+Thomas+Irvine+Boswell+Syme&date=1870&strict=true&limit=1\n",
      "https://api.bionomia.net/users/search?q=Lars+Johan+Wahlstedt&date=1870&strict=true&limit=1\n",
      "https://api.bionomia.net/users/search?q=Mag.+%C3%96stman&date=1870&strict=true&limit=1\n",
      "https://api.bionomia.net/users/search?q=Nordstedt+CFO&date=1870&strict=true&limit=1\n",
      "https://api.bionomia.net/users/search?q=Otto+Nordstedt&date=1870&strict=true&limit=1\n",
      "https://api.bionomia.net/users/search?q=Wilhelm+Berndes&date=1870&strict=true&limit=1\n",
      "https://api.bionomia.net/users/search?q=William+Curnow&date=1870&strict=true&limit=1\n"
     ]
    }
   ],
   "source": [
    "strict_matches = search_bionomia_people_detail(matches, start_year_range)"
   ]
  },
  {
   "cell_type": "code",
   "execution_count": 18,
   "id": "512e8776",
   "metadata": {},
   "outputs": [
    {
     "name": "stdout",
     "output_type": "stream",
     "text": [
      "Alexander Karl (Carl) Heinrich Braun -> Alexander Braun (67.03193) -> Alexander Braun\n",
      "Axel Blytt -> Axel Gudbrand Blytt (56.20684) -> Axel Gudbrand Blytt\n",
      "Axel Tullberg -> Sven Axel Tullberg (61.397266) -> Sven Axel Tullberg\n",
      "Carl Fredrik Otto Nordstedt -> Carl Fredrik Otto Nordstedt (75.72169) -> Carl Fredrik Otto Nordstedt\n",
      "Conr. Indebetou -> Carl Gustaf Indebetou (50.336353) -> Carl Gustaf Indebetou\n",
      "Conrad Indebetou -> Carl Gustaf Indebetou (50.336353) -> Carl Gustaf Indebetou\n",
      "Edouard Rostan -> Edouard Rostan (66.8318) -> Edouard Rostan\n",
      "Frederic Stratton -> Frederic Stratton (60.23281) -> Frederic Stratton\n",
      "Frederick Arnold Lees -> Frederick Arnold Lees (61.451565) -> Frederick Arnold Lees\n",
      "Gust. Bernoulli -> Carl Gustav Bernoulli (52.890484) -> Carl Gustav Bernoulli\n",
      "Hampus Wilhelm Arnell -> Hampus Wilhelm Arnell (69.93576) -> Hampus Wilhelm Arnell\n",
      "Herb Weber-van Bosse -> Anna Weber-van Bosse (59.31223) -> Anna Weber-van Bosse\n",
      "James Groves -> James Groves (56.52253) -> James Groves\n",
      "Jean Armand Isidore Pancher -> Jean Armand Isidore Pancher (81.42685) -> Jean Armand Isidore Pancher\n",
      "John Thomas Irvine Boswell Syme -> John Thomas Irvine Boswell Syme (89.83764) -> John Thomas Irvine Boswell Syme\n",
      "Lars Johan Wahlstedt -> Lars Johan Wahlstedt (68.910904) -> Lars Johan Wahlstedt\n",
      "Mag. Östman -> Magnus Östman (52.890484) -> Magnus Östman\n",
      "Nordstedt CFO -> Carl Fredrik Otto Nordstedt (52.890484) -> Carl Fredrik Otto Nordstedt\n",
      "Otto Nordstedt -> Carl Fredrik Otto Nordstedt (59.99709) -> Carl Fredrik Otto Nordstedt\n",
      "Wilhelm Berndes -> Wilhelm Eugene Berndes (57.41669) -> Wilhelm Eugene Berndes\n",
      "William Curnow -> William Curnow (63.560375) -> William Curnow\n"
     ]
    }
   ],
   "source": [
    "for i in strict_matches:\n",
    "    if 'bionomia_detail_match' in i:\n",
    "        strict_fullname = i['bionomia_detail_match']['name']\n",
    "    else:\n",
    "        strict_fullname = 'Not found'\n",
    "        \n",
    "    print(f\"{i['original_name']} -> {i['bionomia_match']['fullname']} ({i['bionomia_match']['score']}) -> {strict_fullname}\")"
   ]
  },
  {
   "cell_type": "code",
   "execution_count": 19,
   "id": "accbd9dc",
   "metadata": {},
   "outputs": [
    {
     "name": "stdout",
     "output_type": "stream",
     "text": [
      "{'@type': 'Person', '@id': 'https://bionomia.net/Q5823030', 'name': 'Carl Gustaf Indebetou', 'givenName': 'Carl Gustaf', 'familyName': 'Indebetou', 'alternateName': ['Indebetou, Carl Gustaf'], 'knowsAbout': [{'@type': 'ItemList', 'name': 'families_identified', 'itemListElement': [{'@type': 'ListItem', 'name': 'Poaceae'}]}, {'@type': 'ItemList', 'name': 'families_collected', 'itemListElement': [{'@type': 'ListItem', 'name': 'Poaceae'}]}], 'sameAs': 'http://www.wikidata.org/entity/Q5823030', 'birthDate': '1801-01-16', 'deathDate': '1893-03-06'}\n"
     ]
    }
   ],
   "source": [
    "print(strict_matches[4]['bionomia_detail_match'])"
   ]
  },
  {
   "cell_type": "markdown",
   "id": "7ae41e34",
   "metadata": {},
   "source": [
    "Next steps:\n",
    "- run queries that found a match + year of interest against the JSON-LD bionomia endpoint\n",
    "- see if abbreviated names work against the JSON-LD endpoint, providing there's a year\n",
    "- Stash any good matches for now\n",
    "- for full names what don't match: ID women and then try to run them against wikidata\n",
    "- If there is a match in wikidata: figure out the best info etc to dumpout to encourage folks to make profiles on bionomia\n",
    "- No match on wikidata or bionomia: clustering names/families of research? Look in BHL?"
   ]
  },
  {
   "cell_type": "code",
   "execution_count": null,
   "id": "12240647",
   "metadata": {},
   "outputs": [],
   "source": []
  }
 ],
 "metadata": {
  "kernelspec": {
   "display_name": "gbif-api",
   "language": "python",
   "name": "gbif-api"
  },
  "language_info": {
   "codemirror_mode": {
    "name": "ipython",
    "version": 3
   },
   "file_extension": ".py",
   "mimetype": "text/x-python",
   "name": "python",
   "nbconvert_exporter": "python",
   "pygments_lexer": "ipython3",
   "version": "3.8.11"
  }
 },
 "nbformat": 4,
 "nbformat_minor": 5
}
